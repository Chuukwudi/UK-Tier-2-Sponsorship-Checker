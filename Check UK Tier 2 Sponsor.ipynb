{
 "cells": [
  {
   "cell_type": "code",
   "execution_count": 1,
   "id": "b4a3342e",
   "metadata": {},
   "outputs": [],
   "source": [
    "import pandas as pd\n",
    "import httplib2\n",
    "from pathlib import Path\n",
    "from bs4 import BeautifulSoup, SoupStrainer\n",
    "pd.set_option('display.max_rows', 200)"
   ]
  },
  {
   "cell_type": "code",
   "execution_count": 2,
   "id": "c3253421",
   "metadata": {},
   "outputs": [],
   "source": [
    "def get_data():\n",
    "    \"\"\"\n",
    "    The link to the Sponsor list  is updated. This function is designed to fetch the newest version\n",
    "    \"\"\"\n",
    "    # Get webpage\n",
    "    http = httplib2.Http()\n",
    "    status, response = http.request('https://www.gov.uk/government/publications/register-of-licensed-sponsors-workers')\n",
    "    \n",
    "    # Search for the link\n",
    "    for link in BeautifulSoup(response, parse_only=SoupStrainer('a')):\n",
    "        if link.has_attr('href') and link['href'].startswith(\"https://assets.publishing.service.gov.uk/\"):\n",
    "            file_name = link['href'].split('/')[-1]\n",
    "            print(\"\\nLast updated:\", file_name[:10])\n",
    "            \n",
    "            # Fetch the latest data, cache and use old data if there is no update\n",
    "            if Path(file_name).is_file():\n",
    "                df = pd.read_csv(file_name)\n",
    "            else:\n",
    "                df = pd.read_csv(link['href'])\n",
    "                df.to_csv(file_name)\n",
    "                \n",
    "    return df"
   ]
  },
  {
   "cell_type": "code",
   "execution_count": 3,
   "id": "99e958e3",
   "metadata": {},
   "outputs": [
    {
     "name": "stdout",
     "output_type": "stream",
     "text": [
      "\n",
      "Last updated: 2023-03-17\n"
     ]
    }
   ],
   "source": [
    "# Fetch data\n",
    "data = get_data()"
   ]
  },
  {
   "cell_type": "code",
   "execution_count": 19,
   "id": "65eed32f",
   "metadata": {},
   "outputs": [],
   "source": [
    "def search(word, based_on=None, route=None):\n",
    "    \n",
    "    if based_on is None:\n",
    "        based_on = \"org\"\n",
    "    if route is None:\n",
    "        route = \"Skilled Worker\"\n",
    "        \n",
    "    \"\"\"\n",
    "    based_on: Use \"org\", \"toc\" or \"c\" to search based on \"Organisation Name\", \"Town/City\" or \"County\" repectively. \n",
    "    word: This is the text to be searched\n",
    "    route: Any of the elements present in data['Route'].unique(). default is \"Skilled Worker\".\n",
    "    \n",
    "    returns: A dataframe showing the results of the search.\n",
    "    \"\"\"\n",
    "    \n",
    "    expand_arg = {'org': \"Organisation Name\", 'toc': \"Town/City\", 'c': \"County\"}\n",
    "    column = expand_arg[based_on]\n",
    "    df = data.dropna(subset=[column])\n",
    "    sponsor = df[df[column].str.contains(word, case=False)]\n",
    "    return sponsor[sponsor[\"Route\"] == route]"
   ]
  },
  {
   "cell_type": "code",
   "execution_count": 28,
   "id": "a5bbb250",
   "metadata": {},
   "outputs": [
    {
     "data": {
      "text/html": [
       "<div>\n",
       "<style scoped>\n",
       "    .dataframe tbody tr th:only-of-type {\n",
       "        vertical-align: middle;\n",
       "    }\n",
       "\n",
       "    .dataframe tbody tr th {\n",
       "        vertical-align: top;\n",
       "    }\n",
       "\n",
       "    .dataframe thead th {\n",
       "        text-align: right;\n",
       "    }\n",
       "</style>\n",
       "<table border=\"1\" class=\"dataframe\">\n",
       "  <thead>\n",
       "    <tr style=\"text-align: right;\">\n",
       "      <th></th>\n",
       "      <th>Organisation Name</th>\n",
       "      <th>Town/City</th>\n",
       "      <th>County</th>\n",
       "      <th>Type &amp; Rating</th>\n",
       "      <th>Route</th>\n",
       "    </tr>\n",
       "  </thead>\n",
       "  <tbody>\n",
       "    <tr>\n",
       "      <th>68351</th>\n",
       "      <td>University of East Anglia</td>\n",
       "      <td>Norwich</td>\n",
       "      <td>Norfolk</td>\n",
       "      <td>Worker (A rating)</td>\n",
       "      <td>Skilled Worker</td>\n",
       "    </tr>\n",
       "    <tr>\n",
       "      <th>68353</th>\n",
       "      <td>University of East London</td>\n",
       "      <td>London</td>\n",
       "      <td>NaN</td>\n",
       "      <td>Worker (A rating)</td>\n",
       "      <td>Skilled Worker</td>\n",
       "    </tr>\n",
       "    <tr>\n",
       "      <th>68355</th>\n",
       "      <td>University of Edinburgh</td>\n",
       "      <td>Edinburgh</td>\n",
       "      <td>NaN</td>\n",
       "      <td>Worker (A (SME+))</td>\n",
       "      <td>Skilled Worker</td>\n",
       "    </tr>\n",
       "    <tr>\n",
       "      <th>68359</th>\n",
       "      <td>University of Essex</td>\n",
       "      <td>Colchester</td>\n",
       "      <td>Essex</td>\n",
       "      <td>Worker (A rating)</td>\n",
       "      <td>Skilled Worker</td>\n",
       "    </tr>\n",
       "    <tr>\n",
       "      <th>68363</th>\n",
       "      <td>University of Exeter</td>\n",
       "      <td>Exeter</td>\n",
       "      <td>Devon</td>\n",
       "      <td>Worker (A (SME+))</td>\n",
       "      <td>Skilled Worker</td>\n",
       "    </tr>\n",
       "  </tbody>\n",
       "</table>\n",
       "</div>"
      ],
      "text/plain": [
       "               Organisation Name   Town/City   County      Type & Rating  \\\n",
       "68351  University of East Anglia     Norwich  Norfolk  Worker (A rating)   \n",
       "68353  University of East London      London      NaN  Worker (A rating)   \n",
       "68355    University of Edinburgh   Edinburgh      NaN  Worker (A (SME+))   \n",
       "68359        University of Essex  Colchester    Essex  Worker (A rating)   \n",
       "68363       University of Exeter      Exeter    Devon  Worker (A (SME+))   \n",
       "\n",
       "                Route  \n",
       "68351  Skilled Worker  \n",
       "68353  Skilled Worker  \n",
       "68355  Skilled Worker  \n",
       "68359  Skilled Worker  \n",
       "68363  Skilled Worker  "
      ]
     },
     "execution_count": 28,
     "metadata": {},
     "output_type": "execute_result"
    }
   ],
   "source": [
    "response = search(word=\"University of E\", based_on=\"org\", route=\"Skilled Worker\")\n",
    "response"
   ]
  },
  {
   "cell_type": "code",
   "execution_count": 39,
   "id": "713bdf53",
   "metadata": {},
   "outputs": [
    {
     "data": {
      "text/plain": [
       "[{'Organisation Name': 'University of East Anglia',\n",
       "  'Town/City': 'Norwich',\n",
       "  'County': 'Norfolk',\n",
       "  'Type & Rating': 'Worker (A rating)',\n",
       "  'Route': 'Skilled Worker'},\n",
       " {'Organisation Name': 'University of East London',\n",
       "  'Town/City': 'London',\n",
       "  'County': nan,\n",
       "  'Type & Rating': 'Worker (A rating)',\n",
       "  'Route': 'Skilled Worker'},\n",
       " {'Organisation Name': 'University of Edinburgh',\n",
       "  'Town/City': 'Edinburgh',\n",
       "  'County': nan,\n",
       "  'Type & Rating': 'Worker (A (SME+))',\n",
       "  'Route': 'Skilled Worker'},\n",
       " {'Organisation Name': 'University of Essex',\n",
       "  'Town/City': 'Colchester',\n",
       "  'County': 'Essex',\n",
       "  'Type & Rating': 'Worker (A rating)',\n",
       "  'Route': 'Skilled Worker'},\n",
       " {'Organisation Name': 'University of Exeter',\n",
       "  'Town/City': 'Exeter',\n",
       "  'County': 'Devon',\n",
       "  'Type & Rating': 'Worker (A (SME+))',\n",
       "  'Route': 'Skilled Worker'}]"
      ]
     },
     "execution_count": 39,
     "metadata": {},
     "output_type": "execute_result"
    }
   ],
   "source": [
    "var = response.to_dict('records')"
   ]
  },
  {
   "cell_type": "code",
   "execution_count": 37,
   "id": "aeab8acf",
   "metadata": {},
   "outputs": [
    {
     "data": {
      "text/plain": [
       "'{\"0\": {\"Organisation Name\": \"University of East Anglia\", \"Town/City\": \"Norwich\", \"County\": \"Norfolk\", \"Type & Rating\": \"Worker (A rating)\", \"Route\": \"Skilled Worker\"}, \"1\": {\"Organisation Name\": \"University of East London\", \"Town/City\": \"London\", \"County\": NaN, \"Type & Rating\": \"Worker (A rating)\", \"Route\": \"Skilled Worker\"}, \"2\": {\"Organisation Name\": \"University of Edinburgh\", \"Town/City\": \"Edinburgh\", \"County\": NaN, \"Type & Rating\": \"Worker (A (SME+))\", \"Route\": \"Skilled Worker\"}, \"3\": {\"Organisation Name\": \"University of Essex\", \"Town/City\": \"Colchester\", \"County\": \"Essex\", \"Type & Rating\": \"Worker (A rating)\", \"Route\": \"Skilled Worker\"}, \"4\": {\"Organisation Name\": \"University of Exeter\", \"Town/City\": \"Exeter\", \"County\": \"Devon\", \"Type & Rating\": \"Worker (A (SME+))\", \"Route\": \"Skilled Worker\"}}'"
      ]
     },
     "execution_count": 37,
     "metadata": {},
     "output_type": "execute_result"
    }
   ],
   "source": [
    "import json\n",
    "from pprint import pprint\n",
    "\n",
    "json.dumps({str(i) : response.to_dict('records')[i] for i in range(len(response))})\n"
   ]
  },
  {
   "cell_type": "code",
   "execution_count": 31,
   "id": "7c5fd34e",
   "metadata": {},
   "outputs": [
    {
     "data": {
      "text/plain": [
       "'{\"Organisation Name\":{\"68351\":\"University of East Anglia\",\"68353\":\"University of East London\",\"68355\":\"University of Edinburgh\",\"68359\":\"University of Essex\",\"68363\":\"University of Exeter\"},\"Town\\\\/City\":{\"68351\":\"Norwich\",\"68353\":\"London\",\"68355\":\"Edinburgh\",\"68359\":\"Colchester\",\"68363\":\"Exeter\"},\"County\":{\"68351\":\"Norfolk\",\"68353\":null,\"68355\":null,\"68359\":\"Essex\",\"68363\":\"Devon\"},\"Type & Rating\":{\"68351\":\"Worker (A rating)\",\"68353\":\"Worker (A rating)\",\"68355\":\"Worker (A (SME+))\",\"68359\":\"Worker (A rating)\",\"68363\":\"Worker (A (SME+))\"},\"Route\":{\"68351\":\"Skilled Worker\",\"68353\":\"Skilled Worker\",\"68355\":\"Skilled Worker\",\"68359\":\"Skilled Worker\",\"68363\":\"Skilled Worker\"}}'"
      ]
     },
     "execution_count": 31,
     "metadata": {},
     "output_type": "execute_result"
    }
   ],
   "source": [
    "response.to_json()"
   ]
  },
  {
   "cell_type": "code",
   "execution_count": 20,
   "id": "7371d922",
   "metadata": {},
   "outputs": [
    {
     "data": {
      "text/plain": [
       "{'0': {'Organisation Name': 'Flexistay Limited',\n",
       "  'Town/City': 'Croydon',\n",
       "  'County': 'Surrey',\n",
       "  'Type & Rating': 'Worker (A rating)',\n",
       "  'Route': 'Skilled Worker'}}"
      ]
     },
     "execution_count": 20,
     "metadata": {},
     "output_type": "execute_result"
    }
   ],
   "source": [
    "word = \"Exis\"\n",
    "\n",
    "{str(i) : search(word).to_dict('records')[i] for i in range(len(search(word)))}"
   ]
  },
  {
   "cell_type": "code",
   "execution_count": null,
   "id": "0e8b6922",
   "metadata": {},
   "outputs": [],
   "source": []
  }
 ],
 "metadata": {
  "kernelspec": {
   "display_name": "ML",
   "language": "python",
   "name": "python3"
  },
  "language_info": {
   "codemirror_mode": {
    "name": "ipython",
    "version": 3
   },
   "file_extension": ".py",
   "mimetype": "text/x-python",
   "name": "python",
   "nbconvert_exporter": "python",
   "pygments_lexer": "ipython3",
   "version": "3.9.15"
  }
 },
 "nbformat": 4,
 "nbformat_minor": 5
}
