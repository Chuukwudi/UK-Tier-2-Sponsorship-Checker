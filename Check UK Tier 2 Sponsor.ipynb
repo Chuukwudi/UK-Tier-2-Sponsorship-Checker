{
 "cells": [
  {
   "cell_type": "code",
   "execution_count": 18,
   "id": "b4a3342e",
   "metadata": {},
   "outputs": [],
   "source": [
    "import pandas as pd\n",
    "import httplib2\n",
    "from pathlib import Path\n",
    "from bs4 import BeautifulSoup, SoupStrainer\n",
    "pd.set_option('display.max_rows', 200)"
   ]
  },
  {
   "cell_type": "code",
   "execution_count": 19,
   "id": "c3253421",
   "metadata": {},
   "outputs": [],
   "source": [
    "def get_data():\n",
    "    \"\"\"\n",
    "    The link to the Sponsor list  is updated. This function is designed to fetch the newest version\n",
    "    \"\"\"\n",
    "    # Get webpage\n",
    "    http = httplib2.Http()\n",
    "    status, response = http.request('https://www.gov.uk/government/publications/register-of-licensed-sponsors-workers')\n",
    "    \n",
    "    # Search for the link\n",
    "    for link in BeautifulSoup(response, parse_only=SoupStrainer('a')):\n",
    "        if link.has_attr('href') and link['href'].startswith(\"https://assets.publishing.service.gov.uk/\"):\n",
    "            file_name = link['href'].split('/')[-1]\n",
    "            print(\"\\nLast updated:\", file_name[:10])\n",
    "            \n",
    "            # Fetch the latest data, cache and use old data if there is no update\n",
    "            if Path(file_name).is_file():\n",
    "                df = pd.read_csv(file_name)\n",
    "            else:\n",
    "                df = pd.read_csv(link['href'])\n",
    "                df.to_csv(file_name)\n",
    "                \n",
    "    return df"
   ]
  },
  {
   "cell_type": "code",
   "execution_count": 24,
   "id": "99e958e3",
   "metadata": {},
   "outputs": [
    {
     "name": "stdout",
     "output_type": "stream",
     "text": [
      "\n",
      "Last updated: 2022-09-08\n"
     ]
    }
   ],
   "source": [
    "# Fetch data\n",
    "data = get_data()"
   ]
  },
  {
   "cell_type": "code",
   "execution_count": 21,
   "id": "65eed32f",
   "metadata": {},
   "outputs": [],
   "source": [
    "def search(word, based_on=\"org\", route=\"Skilled Worker\"):\n",
    "    \"\"\"\n",
    "    based_on: Use \"org\", \"toc\" or \"c\" to search based on \"Organisation Name\", \"Town/City\" or \"County\" repectively. \n",
    "    word: This is the text to be searched\n",
    "    route: Any of the elements present in data['Route'].unique(). default is \"Skilled Worker\".\n",
    "    \n",
    "    returns: A dataframe showing the results of the search.\n",
    "    \"\"\"\n",
    "    \n",
    "    expand_arg = {'org': \"Organisation Name\", 'toc': \"Town/City\", 'c': \"County\"}\n",
    "    column = expand_arg[based_on]\n",
    "    df = data.dropna(subset=[column])\n",
    "    sponsor = df[df[column].str.contains(word, case=False)]\n",
    "    return sponsor[sponsor[\"Route\"] == route]"
   ]
  },
  {
   "cell_type": "code",
   "execution_count": 23,
   "id": "7371d922",
   "metadata": {},
   "outputs": [
    {
     "data": {
      "text/html": [
       "<div>\n",
       "<style scoped>\n",
       "    .dataframe tbody tr th:only-of-type {\n",
       "        vertical-align: middle;\n",
       "    }\n",
       "\n",
       "    .dataframe tbody tr th {\n",
       "        vertical-align: top;\n",
       "    }\n",
       "\n",
       "    .dataframe thead th {\n",
       "        text-align: right;\n",
       "    }\n",
       "</style>\n",
       "<table border=\"1\" class=\"dataframe\">\n",
       "  <thead>\n",
       "    <tr style=\"text-align: right;\">\n",
       "      <th></th>\n",
       "      <th>Unnamed: 0</th>\n",
       "      <th>Organisation Name</th>\n",
       "      <th>Town/City</th>\n",
       "      <th>County</th>\n",
       "      <th>Type &amp; Rating</th>\n",
       "      <th>Route</th>\n",
       "    </tr>\n",
       "  </thead>\n",
       "  <tbody>\n",
       "    <tr>\n",
       "      <th>43355</th>\n",
       "      <td>43355</td>\n",
       "      <td>Quantiphi Limited</td>\n",
       "      <td>London</td>\n",
       "      <td>NaN</td>\n",
       "      <td>Worker (A rating)</td>\n",
       "      <td>Skilled Worker</td>\n",
       "    </tr>\n",
       "  </tbody>\n",
       "</table>\n",
       "</div>"
      ],
      "text/plain": [
       "       Unnamed: 0  Organisation Name Town/City County      Type & Rating  \\\n",
       "43355       43355  Quantiphi Limited    London    NaN  Worker (A rating)   \n",
       "\n",
       "                Route  \n",
       "43355  Skilled Worker  "
      ]
     },
     "execution_count": 23,
     "metadata": {},
     "output_type": "execute_result"
    }
   ],
   "source": [
    "search(\"Quantip\")"
   ]
  },
  {
   "cell_type": "code",
   "execution_count": null,
   "id": "0e8b6922",
   "metadata": {},
   "outputs": [],
   "source": []
  }
 ],
 "metadata": {
  "kernelspec": {
   "display_name": "ML_with_GPU",
   "language": "python",
   "name": "ml_with_gpu"
  },
  "language_info": {
   "codemirror_mode": {
    "name": "ipython",
    "version": 3
   },
   "file_extension": ".py",
   "mimetype": "text/x-python",
   "name": "python",
   "nbconvert_exporter": "python",
   "pygments_lexer": "ipython3",
   "version": "3.8.10"
  }
 },
 "nbformat": 4,
 "nbformat_minor": 5
}
