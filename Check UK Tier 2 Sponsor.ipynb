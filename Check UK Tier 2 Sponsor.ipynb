{
 "cells": [
  {
   "cell_type": "code",
   "execution_count": 1,
   "id": "b4a3342e",
   "metadata": {},
   "outputs": [],
   "source": [
    "import pandas as pd\n",
    "import httplib2\n",
    "from pathlib import Path\n",
    "from bs4 import BeautifulSoup, SoupStrainer\n",
    "pd.set_option('display.max_rows', 200)"
   ]
  },
  {
   "cell_type": "code",
   "execution_count": 2,
   "id": "c3253421",
   "metadata": {},
   "outputs": [],
   "source": [
    "def get_data():\n",
    "    \"\"\"\n",
    "    The link to the Sponsor list  is updated. This function is designed to fetch the newest version\n",
    "    \"\"\"\n",
    "    # Get webpage\n",
    "    http = httplib2.Http()\n",
    "    status, response = http.request('https://www.gov.uk/government/publications/register-of-licensed-sponsors-workers')\n",
    "    \n",
    "    # Search for the link\n",
    "    for link in BeautifulSoup(response, parse_only=SoupStrainer('a')):\n",
    "        if link.has_attr('href') and link['href'].startswith(\"https://assets.publishing.service.gov.uk/\"):\n",
    "            file_name = link['href'].split('/')[-1]\n",
    "            print(\"\\nLast updated:\", file_name[:10])\n",
    "            \n",
    "            # Fetch the latest data, cache and use old data if there is no update\n",
    "            if Path(file_name).is_file():\n",
    "                df = pd.read_csv(file_name)\n",
    "            else:\n",
    "                df = pd.read_csv(link['href'])\n",
    "                df.to_csv(file_name)\n",
    "                \n",
    "    return df"
   ]
  },
  {
   "cell_type": "code",
   "execution_count": 3,
   "id": "99e958e3",
   "metadata": {},
   "outputs": [
    {
     "name": "stdout",
     "output_type": "stream",
     "text": [
      "\n",
      "Last updated: 2023-03-27\n"
     ]
    }
   ],
   "source": [
    "# Fetch data\n",
    "data = get_data()"
   ]
  },
  {
   "cell_type": "code",
   "execution_count": 4,
   "id": "65eed32f",
   "metadata": {},
   "outputs": [],
   "source": [
    "def search(word, based_on=None, route=None):\n",
    "    \n",
    "    if based_on is None:\n",
    "        based_on = \"org\"\n",
    "    if route is None:\n",
    "        route = \"Skilled Worker\"\n",
    "        \n",
    "    \"\"\"\n",
    "    based_on: Use \"org\", \"toc\" or \"c\" to search based on \"Organisation Name\", \"Town/City\" or \"County\" repectively. \n",
    "    word: This is the text to be searched\n",
    "    route: Any of the elements present in data['Route'].unique(). default is \"Skilled Worker\".\n",
    "    \n",
    "    returns: A dataframe showing the results of the search.\n",
    "    \"\"\"\n",
    "    \n",
    "    expand_arg = {'org': \"Organisation Name\", 'toc': \"Town/City\", 'c': \"County\"}\n",
    "    column = expand_arg[based_on]\n",
    "    df = data.dropna(subset=[column])\n",
    "    sponsor = df[df[column].str.contains(word, case=False)]\n",
    "    return sponsor[sponsor[\"Route\"] == route]"
   ]
  },
  {
   "cell_type": "code",
   "execution_count": 5,
   "id": "a5bbb250",
   "metadata": {},
   "outputs": [
    {
     "data": {
      "text/html": [
       "<div>\n",
       "<style scoped>\n",
       "    .dataframe tbody tr th:only-of-type {\n",
       "        vertical-align: middle;\n",
       "    }\n",
       "\n",
       "    .dataframe tbody tr th {\n",
       "        vertical-align: top;\n",
       "    }\n",
       "\n",
       "    .dataframe thead th {\n",
       "        text-align: right;\n",
       "    }\n",
       "</style>\n",
       "<table border=\"1\" class=\"dataframe\">\n",
       "  <thead>\n",
       "    <tr style=\"text-align: right;\">\n",
       "      <th></th>\n",
       "      <th>Organisation Name</th>\n",
       "      <th>Town/City</th>\n",
       "      <th>County</th>\n",
       "      <th>Type &amp; Rating</th>\n",
       "      <th>Route</th>\n",
       "    </tr>\n",
       "  </thead>\n",
       "  <tbody>\n",
       "    <tr>\n",
       "      <th>68977</th>\n",
       "      <td>University of East Anglia</td>\n",
       "      <td>Norwich</td>\n",
       "      <td>Norfolk</td>\n",
       "      <td>Worker (A rating)</td>\n",
       "      <td>Skilled Worker</td>\n",
       "    </tr>\n",
       "    <tr>\n",
       "      <th>68979</th>\n",
       "      <td>University of East London</td>\n",
       "      <td>London</td>\n",
       "      <td>NaN</td>\n",
       "      <td>Worker (A rating)</td>\n",
       "      <td>Skilled Worker</td>\n",
       "    </tr>\n",
       "    <tr>\n",
       "      <th>68981</th>\n",
       "      <td>University of Edinburgh</td>\n",
       "      <td>Edinburgh</td>\n",
       "      <td>NaN</td>\n",
       "      <td>Worker (A (SME+))</td>\n",
       "      <td>Skilled Worker</td>\n",
       "    </tr>\n",
       "    <tr>\n",
       "      <th>68985</th>\n",
       "      <td>University of Essex</td>\n",
       "      <td>Colchester</td>\n",
       "      <td>Essex</td>\n",
       "      <td>Worker (A rating)</td>\n",
       "      <td>Skilled Worker</td>\n",
       "    </tr>\n",
       "    <tr>\n",
       "      <th>68989</th>\n",
       "      <td>University of Exeter</td>\n",
       "      <td>Exeter</td>\n",
       "      <td>Devon</td>\n",
       "      <td>Worker (A (SME+))</td>\n",
       "      <td>Skilled Worker</td>\n",
       "    </tr>\n",
       "  </tbody>\n",
       "</table>\n",
       "</div>"
      ],
      "text/plain": [
       "               Organisation Name   Town/City   County      Type & Rating  \\\n",
       "68977  University of East Anglia     Norwich  Norfolk  Worker (A rating)   \n",
       "68979  University of East London      London      NaN  Worker (A rating)   \n",
       "68981    University of Edinburgh   Edinburgh      NaN  Worker (A (SME+))   \n",
       "68985        University of Essex  Colchester    Essex  Worker (A rating)   \n",
       "68989       University of Exeter      Exeter    Devon  Worker (A (SME+))   \n",
       "\n",
       "                Route  \n",
       "68977  Skilled Worker  \n",
       "68979  Skilled Worker  \n",
       "68981  Skilled Worker  \n",
       "68985  Skilled Worker  \n",
       "68989  Skilled Worker  "
      ]
     },
     "execution_count": 5,
     "metadata": {},
     "output_type": "execute_result"
    }
   ],
   "source": [
    "response = search(word=\"University of E\", based_on=\"org\", route=\"Skilled Worker\")\n",
    "response"
   ]
  },
  {
   "cell_type": "code",
   "execution_count": 6,
   "id": "713bdf53",
   "metadata": {},
   "outputs": [],
   "source": [
    "var = response.to_dict('records')"
   ]
  },
  {
   "cell_type": "code",
   "execution_count": 7,
   "id": "aeab8acf",
   "metadata": {},
   "outputs": [
    {
     "data": {
      "text/plain": [
       "'{\"0\": {\"Organisation Name\": \"University of East Anglia\", \"Town/City\": \"Norwich\", \"County\": \"Norfolk\", \"Type & Rating\": \"Worker (A rating)\", \"Route\": \"Skilled Worker\"}, \"1\": {\"Organisation Name\": \"University of East London\", \"Town/City\": \"London\", \"County\": NaN, \"Type & Rating\": \"Worker (A rating)\", \"Route\": \"Skilled Worker\"}, \"2\": {\"Organisation Name\": \"University of Edinburgh\", \"Town/City\": \"Edinburgh\", \"County\": NaN, \"Type & Rating\": \"Worker (A (SME+))\", \"Route\": \"Skilled Worker\"}, \"3\": {\"Organisation Name\": \"University of Essex\", \"Town/City\": \"Colchester\", \"County\": \"Essex\", \"Type & Rating\": \"Worker (A rating)\", \"Route\": \"Skilled Worker\"}, \"4\": {\"Organisation Name\": \"University of Exeter\", \"Town/City\": \"Exeter\", \"County\": \"Devon\", \"Type & Rating\": \"Worker (A (SME+))\", \"Route\": \"Skilled Worker\"}}'"
      ]
     },
     "execution_count": 7,
     "metadata": {},
     "output_type": "execute_result"
    }
   ],
   "source": [
    "import json\n",
    "from pprint import pprint\n",
    "\n",
    "json.dumps({str(i) : response.to_dict('records')[i] for i in range(len(response))})\n"
   ]
  },
  {
   "cell_type": "code",
   "execution_count": 8,
   "id": "7c5fd34e",
   "metadata": {},
   "outputs": [
    {
     "data": {
      "text/plain": [
       "'{\"Organisation Name\":{\"68977\":\"University of East Anglia\",\"68979\":\"University of East London\",\"68981\":\"University of Edinburgh\",\"68985\":\"University of Essex\",\"68989\":\"University of Exeter\"},\"Town\\\\/City\":{\"68977\":\"Norwich\",\"68979\":\"London\",\"68981\":\"Edinburgh\",\"68985\":\"Colchester\",\"68989\":\"Exeter\"},\"County\":{\"68977\":\"Norfolk\",\"68979\":null,\"68981\":null,\"68985\":\"Essex\",\"68989\":\"Devon\"},\"Type & Rating\":{\"68977\":\"Worker (A rating)\",\"68979\":\"Worker (A rating)\",\"68981\":\"Worker (A (SME+))\",\"68985\":\"Worker (A rating)\",\"68989\":\"Worker (A (SME+))\"},\"Route\":{\"68977\":\"Skilled Worker\",\"68979\":\"Skilled Worker\",\"68981\":\"Skilled Worker\",\"68985\":\"Skilled Worker\",\"68989\":\"Skilled Worker\"}}'"
      ]
     },
     "execution_count": 8,
     "metadata": {},
     "output_type": "execute_result"
    }
   ],
   "source": [
    "response.to_json()"
   ]
  },
  {
   "cell_type": "code",
   "execution_count": 9,
   "id": "7371d922",
   "metadata": {},
   "outputs": [
    {
     "data": {
      "text/plain": [
       "{'0': {'Organisation Name': 'Flexistay Limited',\n",
       "  'Town/City': 'Croydon',\n",
       "  'County': 'Surrey',\n",
       "  'Type & Rating': 'Worker (A rating)',\n",
       "  'Route': 'Skilled Worker'}}"
      ]
     },
     "execution_count": 9,
     "metadata": {},
     "output_type": "execute_result"
    }
   ],
   "source": [
    "word = \"Exis\"\n",
    "\n",
    "{str(i) : search(word).to_dict('records')[i] for i in range(len(search(word)))}"
   ]
  },
  {
   "cell_type": "code",
   "execution_count": 10,
   "id": "0e8b6922",
   "metadata": {},
   "outputs": [
    {
     "name": "stdout",
     "output_type": "stream",
     "text": [
      "{\"last_updated\": \"2023-03-27\", \"output_table\": [{\"Organisation Name\": \"East Norfolk Multi Academy Trust\", \"Town/City\": \"Great Yarmouth\", \"County\": \"Norfolk\", \"Type & Rating\": \"Worker (A rating)\", \"Route\": \"Skilled Worker\"}, {\"Organisation Name\": \"I Care Service Norfolk Ltd\", \"Town/City\": \"Dereham\", \"County\": \"Norfolk\", \"Type & Rating\": \"Worker (A rating)\", \"Route\": \"Skilled Worker\"}, {\"Organisation Name\": \"Indian Vegetarian Norfolk Ltd\", \"Town/City\": \"Cambridge\", \"County\": \"Cambridgeshire\", \"Type & Rating\": \"Worker (A rating)\", \"Route\": \"Skilled Worker\"}, {\"Organisation Name\": \"Norfolk Affinity Care Services Ltd\", \"Town/City\": \"Norwich\", \"County\": \"Norfolk\", \"Type & Rating\": \"Worker (A rating)\", \"Route\": \"Skilled Worker\"}, {\"Organisation Name\": \"Norfolk and Norwich University Hospitals NHS Foundation Trust\", \"Town/City\": \"Norwich\", \"County\": \"Norfolk\", \"Type & Rating\": \"Worker (A rating)\", \"Route\": \"Skilled Worker\"}, {\"Organisation Name\": \"Norfolk and Suffolk  NHS Foundation Trust\", \"Town/City\": \"Norwich\", \"County\": \"Norfolk\", \"Type & Rating\": \"Worker (A rating)\", \"Route\": \"Skilled Worker\"}, {\"Organisation Name\": \"NORFOLK AND SUFFOLK HEALTHCARE LIMITED\", \"Town/City\": \"Ipswich\", \"County\": \"Suffolk\", \"Type & Rating\": \"Worker (A rating)\", \"Route\": \"Skilled Worker\"}, {\"Organisation Name\": \"Norfolk Community Health & Care NHS Trust\", \"Town/City\": \"Norwich\", \"County\": \"Norfolk\", \"Type & Rating\": \"Worker (A rating)\", \"Route\": \"Skilled Worker\"}, {\"Organisation Name\": \"Norfolk County Council\", \"Town/City\": \"Norwich\", \"County\": \"Norfolk\", \"Type & Rating\": \"Worker (A rating)\", \"Route\": \"Skilled Worker\"}, {\"Organisation Name\": \"Norfolk Mead Hotel\", \"Town/City\": \"Coltishall\", \"County\": \"Norfolk\", \"Type & Rating\": \"Worker (A rating)\", \"Route\": \"Skilled Worker\"}, {\"Organisation Name\": \"Norfolk Racing Ltd t/a Virtuosi Racing\", \"Town/City\": \"Attleborough\", \"County\": \"Norfolk\", \"Type & Rating\": \"Worker (A rating)\", \"Route\": \"Skilled Worker\"}, {\"Organisation Name\": \"Norfolk Square Dental Practice\", \"Town/City\": \"Brighton\", \"County\": \"East Sussex\", \"Type & Rating\": \"Worker (A rating)\", \"Route\": \"Skilled Worker\"}, {\"Organisation Name\": \"NORFOLK STREET PHARMACY\", \"Town/City\": \"STOKE ON TRENT\", \"County\": NaN, \"Type & Rating\": \"Worker (A rating)\", \"Route\": \"Skilled Worker\"}, {\"Organisation Name\": \"Norfolk Street Surgery\", \"Town/City\": \"Stoke on Trent\", \"County\": \"Staffordshire\", \"Type & Rating\": \"Worker (A rating)\", \"Route\": \"Skilled Worker\"}, {\"Organisation Name\": \"North Norfolk Physiotherapy\", \"Town/City\": \"Aylsham\", \"County\": \"Norfolk\", \"Type & Rating\": \"Worker (A rating)\", \"Route\": \"Skilled Worker\"}, {\"Organisation Name\": \"Prime Food Norfolk\", \"Town/City\": \"Ilford\", \"County\": \"Essex\", \"Type & Rating\": \"Worker (A rating)\", \"Route\": \"Skilled Worker\"}, {\"Organisation Name\": \"TOTAL CARE NORFOLK LIMITED\", \"Town/City\": \"Norfolk\", \"County\": NaN, \"Type & Rating\": \"Worker (A rating)\", \"Route\": \"Skilled Worker\"}, {\"Organisation Name\": \"West Norfolk Academies Trust\", \"Town/City\": \"Kings Lynn\", \"County\": \"Norfolk\", \"Type & Rating\": \"Worker (A rating)\", \"Route\": \"Skilled Worker\"}]}\n"
     ]
    }
   ],
   "source": [
    "import requests\n",
    "import json\n",
    "import pandas as pd\n",
    "\n",
    "url = \"https://hvpfqi4bob.execute-api.eu-west-2.amazonaws.com/sponsorship-checker\"\n",
    "\n",
    "payload = {\n",
    "            \"word\": \"Norfolk\", \n",
    "            \"based_on\": \"org\", \n",
    "            \"route\": \"Skilled Worker\"\n",
    "          }\n",
    "\n",
    "payload = json.dumps(payload)\n",
    "headers = {\n",
    "  'Content-Type': 'text/plain'\n",
    "}\n",
    "\n",
    "response = requests.request(\"POST\", url, headers=headers, data=payload)\n",
    "\n",
    "print(response.text)\n",
    "\n",
    "dd = json.loads(response.text)\n"
   ]
  },
  {
   "cell_type": "code",
   "execution_count": 10,
   "id": "7c6c3559",
   "metadata": {},
   "outputs": [
    {
     "data": {
      "text/plain": [
       "[{'Organisation Name': 'East Norfolk Multi Academy Trust',\n",
       "  'Town/City': 'Great Yarmouth',\n",
       "  'County': 'Norfolk',\n",
       "  'Type & Rating': 'Worker (A rating)',\n",
       "  'Route': 'Skilled Worker'},\n",
       " {'Organisation Name': 'I Care Service Norfolk Ltd',\n",
       "  'Town/City': 'Dereham',\n",
       "  'County': 'Norfolk',\n",
       "  'Type & Rating': 'Worker (A rating)',\n",
       "  'Route': 'Skilled Worker'},\n",
       " {'Organisation Name': 'Indian Vegetarian Norfolk Ltd',\n",
       "  'Town/City': 'Cambridge',\n",
       "  'County': 'Cambridgeshire',\n",
       "  'Type & Rating': 'Worker (A rating)',\n",
       "  'Route': 'Skilled Worker'},\n",
       " {'Organisation Name': 'Norfolk Affinity Care Services Ltd',\n",
       "  'Town/City': 'Norwich',\n",
       "  'County': 'Norfolk',\n",
       "  'Type & Rating': 'Worker (A rating)',\n",
       "  'Route': 'Skilled Worker'},\n",
       " {'Organisation Name': 'Norfolk and Norwich University Hospitals NHS Foundation Trust',\n",
       "  'Town/City': 'Norwich',\n",
       "  'County': 'Norfolk',\n",
       "  'Type & Rating': 'Worker (A rating)',\n",
       "  'Route': 'Skilled Worker'},\n",
       " {'Organisation Name': 'Norfolk and Suffolk  NHS Foundation Trust',\n",
       "  'Town/City': 'Norwich',\n",
       "  'County': 'Norfolk',\n",
       "  'Type & Rating': 'Worker (A rating)',\n",
       "  'Route': 'Skilled Worker'},\n",
       " {'Organisation Name': 'NORFOLK AND SUFFOLK HEALTHCARE LIMITED',\n",
       "  'Town/City': 'Ipswich',\n",
       "  'County': 'Suffolk',\n",
       "  'Type & Rating': 'Worker (A rating)',\n",
       "  'Route': 'Skilled Worker'},\n",
       " {'Organisation Name': 'Norfolk Community Health & Care NHS Trust',\n",
       "  'Town/City': 'Norwich',\n",
       "  'County': 'Norfolk',\n",
       "  'Type & Rating': 'Worker (A rating)',\n",
       "  'Route': 'Skilled Worker'},\n",
       " {'Organisation Name': 'Norfolk County Council',\n",
       "  'Town/City': 'Norwich',\n",
       "  'County': 'Norfolk',\n",
       "  'Type & Rating': 'Worker (A rating)',\n",
       "  'Route': 'Skilled Worker'},\n",
       " {'Organisation Name': 'Norfolk Mead Hotel',\n",
       "  'Town/City': 'Coltishall',\n",
       "  'County': 'Norfolk',\n",
       "  'Type & Rating': 'Worker (A rating)',\n",
       "  'Route': 'Skilled Worker'},\n",
       " {'Organisation Name': 'Norfolk Racing Ltd t/a Virtuosi Racing',\n",
       "  'Town/City': 'Attleborough',\n",
       "  'County': 'Norfolk',\n",
       "  'Type & Rating': 'Worker (A rating)',\n",
       "  'Route': 'Skilled Worker'},\n",
       " {'Organisation Name': 'Norfolk Square Dental Practice',\n",
       "  'Town/City': 'Brighton',\n",
       "  'County': 'East Sussex',\n",
       "  'Type & Rating': 'Worker (A rating)',\n",
       "  'Route': 'Skilled Worker'},\n",
       " {'Organisation Name': 'NORFOLK STREET PHARMACY',\n",
       "  'Town/City': 'STOKE ON TRENT',\n",
       "  'County': nan,\n",
       "  'Type & Rating': 'Worker (A rating)',\n",
       "  'Route': 'Skilled Worker'},\n",
       " {'Organisation Name': 'Norfolk Street Surgery',\n",
       "  'Town/City': 'Stoke on Trent',\n",
       "  'County': 'Staffordshire',\n",
       "  'Type & Rating': 'Worker (A rating)',\n",
       "  'Route': 'Skilled Worker'},\n",
       " {'Organisation Name': 'Prime Food Norfolk',\n",
       "  'Town/City': 'Ilford',\n",
       "  'County': 'Essex',\n",
       "  'Type & Rating': 'Worker (A rating)',\n",
       "  'Route': 'Skilled Worker'},\n",
       " {'Organisation Name': 'TOTAL CARE NORFOLK LIMITED',\n",
       "  'Town/City': 'Norfolk',\n",
       "  'County': nan,\n",
       "  'Type & Rating': 'Worker (A rating)',\n",
       "  'Route': 'Skilled Worker'},\n",
       " {'Organisation Name': 'West Norfolk Academies Trust',\n",
       "  'Town/City': 'Kings Lynn',\n",
       "  'County': 'Norfolk',\n",
       "  'Type & Rating': 'Worker (A rating)',\n",
       "  'Route': 'Skilled Worker'}]"
      ]
     },
     "execution_count": 10,
     "metadata": {},
     "output_type": "execute_result"
    }
   ],
   "source": [
    "dd[\"output_table\"]"
   ]
  },
  {
   "cell_type": "code",
   "execution_count": 12,
   "id": "ff8157e7",
   "metadata": {},
   "outputs": [
    {
     "data": {
      "text/plain": [
       "array(['Skilled Worker', 'Creative Worker',\n",
       "       'Global Business Mobility: Senior or Specialist Worker',\n",
       "       'Tier 2 Ministers of Religion',\n",
       "       'Global Business Mobility: UK Expansion Worker',\n",
       "       'Global Business Mobility: Graduate Trainee',\n",
       "       'International Sportsperson', 'Charity Worker', 'Religious Worker',\n",
       "       'Government Authorised Exchange', 'International Agreement',\n",
       "       'Seasonal Worker', 'Scale-up',\n",
       "       'Global Business Mobility: Service Supplier',\n",
       "       'Global Business Mobility: Secondment Worker'], dtype=object)"
      ]
     },
     "execution_count": 12,
     "metadata": {},
     "output_type": "execute_result"
    }
   ],
   "source": [
    "data[\"Route\"].unique()"
   ]
  },
  {
   "cell_type": "code",
   "execution_count": 11,
   "id": "4c4383f5",
   "metadata": {},
   "outputs": [
    {
     "data": {
      "text/html": [
       "<div>\n",
       "<style scoped>\n",
       "    .dataframe tbody tr th:only-of-type {\n",
       "        vertical-align: middle;\n",
       "    }\n",
       "\n",
       "    .dataframe tbody tr th {\n",
       "        vertical-align: top;\n",
       "    }\n",
       "\n",
       "    .dataframe thead th {\n",
       "        text-align: right;\n",
       "    }\n",
       "</style>\n",
       "<table border=\"1\" class=\"dataframe\">\n",
       "  <thead>\n",
       "    <tr style=\"text-align: right;\">\n",
       "      <th></th>\n",
       "      <th>Organisation Name</th>\n",
       "      <th>Town/City</th>\n",
       "      <th>County</th>\n",
       "      <th>Type &amp; Rating</th>\n",
       "      <th>Route</th>\n",
       "    </tr>\n",
       "  </thead>\n",
       "  <tbody>\n",
       "    <tr>\n",
       "      <th>0</th>\n",
       "      <td>East Norfolk Multi Academy Trust</td>\n",
       "      <td>Great Yarmouth</td>\n",
       "      <td>Norfolk</td>\n",
       "      <td>Worker (A rating)</td>\n",
       "      <td>Skilled Worker</td>\n",
       "    </tr>\n",
       "    <tr>\n",
       "      <th>1</th>\n",
       "      <td>I Care Service Norfolk Ltd</td>\n",
       "      <td>Dereham</td>\n",
       "      <td>Norfolk</td>\n",
       "      <td>Worker (A rating)</td>\n",
       "      <td>Skilled Worker</td>\n",
       "    </tr>\n",
       "    <tr>\n",
       "      <th>2</th>\n",
       "      <td>Indian Vegetarian Norfolk Ltd</td>\n",
       "      <td>Cambridge</td>\n",
       "      <td>Cambridgeshire</td>\n",
       "      <td>Worker (A rating)</td>\n",
       "      <td>Skilled Worker</td>\n",
       "    </tr>\n",
       "    <tr>\n",
       "      <th>3</th>\n",
       "      <td>Norfolk Affinity Care Services Ltd</td>\n",
       "      <td>Norwich</td>\n",
       "      <td>Norfolk</td>\n",
       "      <td>Worker (A rating)</td>\n",
       "      <td>Skilled Worker</td>\n",
       "    </tr>\n",
       "    <tr>\n",
       "      <th>4</th>\n",
       "      <td>Norfolk and Norwich University Hospitals NHS F...</td>\n",
       "      <td>Norwich</td>\n",
       "      <td>Norfolk</td>\n",
       "      <td>Worker (A rating)</td>\n",
       "      <td>Skilled Worker</td>\n",
       "    </tr>\n",
       "    <tr>\n",
       "      <th>5</th>\n",
       "      <td>Norfolk and Suffolk  NHS Foundation Trust</td>\n",
       "      <td>Norwich</td>\n",
       "      <td>Norfolk</td>\n",
       "      <td>Worker (A rating)</td>\n",
       "      <td>Skilled Worker</td>\n",
       "    </tr>\n",
       "    <tr>\n",
       "      <th>6</th>\n",
       "      <td>NORFOLK AND SUFFOLK HEALTHCARE LIMITED</td>\n",
       "      <td>Ipswich</td>\n",
       "      <td>Suffolk</td>\n",
       "      <td>Worker (A rating)</td>\n",
       "      <td>Skilled Worker</td>\n",
       "    </tr>\n",
       "    <tr>\n",
       "      <th>7</th>\n",
       "      <td>Norfolk Community Health &amp; Care NHS Trust</td>\n",
       "      <td>Norwich</td>\n",
       "      <td>Norfolk</td>\n",
       "      <td>Worker (A rating)</td>\n",
       "      <td>Skilled Worker</td>\n",
       "    </tr>\n",
       "    <tr>\n",
       "      <th>8</th>\n",
       "      <td>Norfolk County Council</td>\n",
       "      <td>Norwich</td>\n",
       "      <td>Norfolk</td>\n",
       "      <td>Worker (A rating)</td>\n",
       "      <td>Skilled Worker</td>\n",
       "    </tr>\n",
       "    <tr>\n",
       "      <th>9</th>\n",
       "      <td>Norfolk Mead Hotel</td>\n",
       "      <td>Coltishall</td>\n",
       "      <td>Norfolk</td>\n",
       "      <td>Worker (A rating)</td>\n",
       "      <td>Skilled Worker</td>\n",
       "    </tr>\n",
       "    <tr>\n",
       "      <th>10</th>\n",
       "      <td>Norfolk Racing Ltd t/a Virtuosi Racing</td>\n",
       "      <td>Attleborough</td>\n",
       "      <td>Norfolk</td>\n",
       "      <td>Worker (A rating)</td>\n",
       "      <td>Skilled Worker</td>\n",
       "    </tr>\n",
       "    <tr>\n",
       "      <th>11</th>\n",
       "      <td>Norfolk Square Dental Practice</td>\n",
       "      <td>Brighton</td>\n",
       "      <td>East Sussex</td>\n",
       "      <td>Worker (A rating)</td>\n",
       "      <td>Skilled Worker</td>\n",
       "    </tr>\n",
       "    <tr>\n",
       "      <th>12</th>\n",
       "      <td>NORFOLK STREET PHARMACY</td>\n",
       "      <td>STOKE ON TRENT</td>\n",
       "      <td>NaN</td>\n",
       "      <td>Worker (A rating)</td>\n",
       "      <td>Skilled Worker</td>\n",
       "    </tr>\n",
       "    <tr>\n",
       "      <th>13</th>\n",
       "      <td>Norfolk Street Surgery</td>\n",
       "      <td>Stoke on Trent</td>\n",
       "      <td>Staffordshire</td>\n",
       "      <td>Worker (A rating)</td>\n",
       "      <td>Skilled Worker</td>\n",
       "    </tr>\n",
       "    <tr>\n",
       "      <th>14</th>\n",
       "      <td>Prime Food Norfolk</td>\n",
       "      <td>Ilford</td>\n",
       "      <td>Essex</td>\n",
       "      <td>Worker (A rating)</td>\n",
       "      <td>Skilled Worker</td>\n",
       "    </tr>\n",
       "    <tr>\n",
       "      <th>15</th>\n",
       "      <td>TOTAL CARE NORFOLK LIMITED</td>\n",
       "      <td>Norfolk</td>\n",
       "      <td>NaN</td>\n",
       "      <td>Worker (A rating)</td>\n",
       "      <td>Skilled Worker</td>\n",
       "    </tr>\n",
       "    <tr>\n",
       "      <th>16</th>\n",
       "      <td>West Norfolk Academies Trust</td>\n",
       "      <td>Kings Lynn</td>\n",
       "      <td>Norfolk</td>\n",
       "      <td>Worker (A rating)</td>\n",
       "      <td>Skilled Worker</td>\n",
       "    </tr>\n",
       "  </tbody>\n",
       "</table>\n",
       "</div>"
      ],
      "text/plain": [
       "                                    Organisation Name       Town/City  \\\n",
       "0                    East Norfolk Multi Academy Trust  Great Yarmouth   \n",
       "1                          I Care Service Norfolk Ltd         Dereham   \n",
       "2                       Indian Vegetarian Norfolk Ltd       Cambridge   \n",
       "3                  Norfolk Affinity Care Services Ltd         Norwich   \n",
       "4   Norfolk and Norwich University Hospitals NHS F...         Norwich   \n",
       "5           Norfolk and Suffolk  NHS Foundation Trust         Norwich   \n",
       "6              NORFOLK AND SUFFOLK HEALTHCARE LIMITED         Ipswich   \n",
       "7           Norfolk Community Health & Care NHS Trust         Norwich   \n",
       "8                              Norfolk County Council         Norwich   \n",
       "9                                  Norfolk Mead Hotel      Coltishall   \n",
       "10             Norfolk Racing Ltd t/a Virtuosi Racing    Attleborough   \n",
       "11                     Norfolk Square Dental Practice        Brighton   \n",
       "12                            NORFOLK STREET PHARMACY  STOKE ON TRENT   \n",
       "13                             Norfolk Street Surgery  Stoke on Trent   \n",
       "14                                 Prime Food Norfolk          Ilford   \n",
       "15                         TOTAL CARE NORFOLK LIMITED         Norfolk   \n",
       "16                       West Norfolk Academies Trust      Kings Lynn   \n",
       "\n",
       "            County      Type & Rating           Route  \n",
       "0          Norfolk  Worker (A rating)  Skilled Worker  \n",
       "1          Norfolk  Worker (A rating)  Skilled Worker  \n",
       "2   Cambridgeshire  Worker (A rating)  Skilled Worker  \n",
       "3          Norfolk  Worker (A rating)  Skilled Worker  \n",
       "4          Norfolk  Worker (A rating)  Skilled Worker  \n",
       "5          Norfolk  Worker (A rating)  Skilled Worker  \n",
       "6          Suffolk  Worker (A rating)  Skilled Worker  \n",
       "7          Norfolk  Worker (A rating)  Skilled Worker  \n",
       "8          Norfolk  Worker (A rating)  Skilled Worker  \n",
       "9          Norfolk  Worker (A rating)  Skilled Worker  \n",
       "10         Norfolk  Worker (A rating)  Skilled Worker  \n",
       "11     East Sussex  Worker (A rating)  Skilled Worker  \n",
       "12             NaN  Worker (A rating)  Skilled Worker  \n",
       "13   Staffordshire  Worker (A rating)  Skilled Worker  \n",
       "14           Essex  Worker (A rating)  Skilled Worker  \n",
       "15             NaN  Worker (A rating)  Skilled Worker  \n",
       "16         Norfolk  Worker (A rating)  Skilled Worker  "
      ]
     },
     "execution_count": 11,
     "metadata": {},
     "output_type": "execute_result"
    }
   ],
   "source": [
    "pd.DataFrame.from_dict(dd[\"output_table\"])"
   ]
  },
  {
   "cell_type": "code",
   "execution_count": 12,
   "id": "7e691965",
   "metadata": {},
   "outputs": [
    {
     "data": {
      "text/plain": [
       "'{\\r\\n    \"word\": \"Norfolk\",\\r\\n    \"based_on\": \"org\",\\r\\n    \"route\": \"Skilled Worker\"\\r\\n}'"
      ]
     },
     "execution_count": 12,
     "metadata": {},
     "output_type": "execute_result"
    }
   ],
   "source": [
    "payload"
   ]
  }
 ],
 "metadata": {
  "kernelspec": {
   "display_name": "ML",
   "language": "python",
   "name": "python3"
  },
  "language_info": {
   "codemirror_mode": {
    "name": "ipython",
    "version": 3
   },
   "file_extension": ".py",
   "mimetype": "text/x-python",
   "name": "python",
   "nbconvert_exporter": "python",
   "pygments_lexer": "ipython3",
   "version": "3.9.15"
  }
 },
 "nbformat": 4,
 "nbformat_minor": 5
}
